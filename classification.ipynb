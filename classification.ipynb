{
 "cells": [
  {
   "cell_type": "code",
   "execution_count": 1,
   "metadata": {},
   "outputs": [
    {
     "name": "stderr",
     "output_type": "stream",
     "text": [
      "c:\\Users\\shiva\\AppData\\Local\\Programs\\Python\\Python37\\lib\\site-packages\\sklearn\\feature_extraction\\image.py:167: DeprecationWarning: `np.int` is a deprecated alias for the builtin `int`. To silence this warning, use `int` by itself. Doing this will not modify any behavior and is safe. When replacing `np.int`, you may wish to use e.g. `np.int64` or `np.int32` to specify the precision. If you wish to review your current use, check the release note link for additional information.\n",
      "Deprecated in NumPy 1.20; for more details and guidance: https://numpy.org/devdocs/release/1.20.0-notes.html#deprecations\n",
      "  dtype=np.int):\n"
     ]
    }
   ],
   "source": [
    "import pandas as pd\n",
    "from sklearn.feature_extraction.text import CountVectorizer\n",
    "from sklearn.naive_bayes import MultinomialNB\n",
    "from sklearn.model_selection import train_test_split\n",
    "from sklearn.metrics import classification_report, accuracy_score\n"
   ]
  },
  {
   "cell_type": "code",
   "execution_count": 2,
   "metadata": {},
   "outputs": [],
   "source": [
    "data = pd.read_csv(\"OSX_DS_assignment.csv\")\n",
    "\n",
    "data = data.dropna(subset=['review_description', 'variety'])\n",
    "\n",
    "data = data.drop_duplicates(subset='review_description')\n"
   ]
  },
  {
   "cell_type": "code",
   "execution_count": 3,
   "metadata": {},
   "outputs": [],
   "source": [
    "y = data['variety']\n",
    "\n",
    "vectorizer = CountVectorizer(stop_words='english')\n",
    "X = vectorizer.fit_transform(data['review_description'])\n"
   ]
  },
  {
   "cell_type": "code",
   "execution_count": 4,
   "metadata": {},
   "outputs": [],
   "source": [
    "X_train, X_test, y_train, y_test = train_test_split(X, y, test_size=0.2, random_state=42)\n"
   ]
  },
  {
   "cell_type": "code",
   "execution_count": 5,
   "metadata": {},
   "outputs": [
    {
     "data": {
      "text/plain": [
       "MultinomialNB(alpha=1.0, class_prior=None, fit_prior=True)"
      ]
     },
     "execution_count": 5,
     "metadata": {},
     "output_type": "execute_result"
    }
   ],
   "source": [
    "clf = MultinomialNB()\n",
    "clf.fit(X_train, y_train)\n"
   ]
  },
  {
   "cell_type": "code",
   "execution_count": 6,
   "metadata": {},
   "outputs": [
    {
     "name": "stdout",
     "output_type": "stream",
     "text": [
      "Accuracy: 0.60\n",
      "\n",
      "Classification Report:\n",
      "                            precision    recall  f1-score   support\n",
      "\n",
      "  Bordeaux-style Red Blend       0.52      0.69      0.60      1321\n",
      "Bordeaux-style White Blend       1.00      0.16      0.27       211\n",
      "            Cabernet Franc       0.50      0.01      0.02       250\n",
      "        Cabernet Sauvignon       0.49      0.71      0.58      1758\n",
      "           Champagne Blend       0.84      0.37      0.51       293\n",
      "                Chardonnay       0.61      0.89      0.72      2201\n",
      "                     Gamay       0.95      0.11      0.20       185\n",
      "            Gewürztraminer       0.93      0.07      0.13       191\n",
      "          Grüner Veltliner       0.83      0.35      0.49       225\n",
      "                    Malbec       0.41      0.43      0.42       484\n",
      "                    Merlot       0.72      0.06      0.11       581\n",
      "                  Nebbiolo       0.62      0.82      0.71       516\n",
      "              Pinot Grigio       0.85      0.15      0.26       193\n",
      "                Pinot Gris       0.93      0.11      0.19       253\n",
      "                Pinot Noir       0.67      0.78      0.72      2406\n",
      "            Portuguese Red       0.58      0.56      0.57       437\n",
      "          Portuguese White       0.80      0.31      0.44       195\n",
      "                 Red Blend       0.51      0.64      0.57      1650\n",
      "     Rhône-style Red Blend       0.92      0.21      0.35       267\n",
      "                  Riesling       0.66      0.80      0.73       914\n",
      "                      Rosé       0.66      0.71      0.68       645\n",
      "                Sangiovese       0.58      0.27      0.37       512\n",
      "           Sauvignon Blanc       0.66      0.63      0.64       909\n",
      "           Sparkling Blend       0.75      0.51      0.60       394\n",
      "                     Syrah       0.67      0.41      0.51       781\n",
      "               Tempranillo       0.53      0.32      0.40       345\n",
      "               White Blend       0.73      0.58      0.65       451\n",
      "                 Zinfandel       0.75      0.50      0.60       519\n",
      "\n",
      "                 micro avg       0.60      0.60      0.60     19087\n",
      "                 macro avg       0.70      0.43      0.47     19087\n",
      "              weighted avg       0.63      0.60      0.57     19087\n",
      "\n"
     ]
    }
   ],
   "source": [
    "y_pred = clf.predict(X_test)\n",
    "\n",
    "accuracy = accuracy_score(y_test, y_pred)\n",
    "print(f\"Accuracy: {accuracy:.2f}\")\n",
    "\n",
    "print(\"\\nClassification Report:\")\n",
    "print(classification_report(y_test, y_pred))\n"
   ]
  },
  {
   "cell_type": "code",
   "execution_count": 7,
   "metadata": {},
   "outputs": [
    {
     "data": {
      "text/plain": [
       "['vectorizer.pkl']"
      ]
     },
     "execution_count": 7,
     "metadata": {},
     "output_type": "execute_result"
    }
   ],
   "source": [
    "import joblib\n",
    "\n",
    "joblib.dump(clf, \"naive_bayes_classifier.pkl\")\n",
    "joblib.dump(vectorizer, \"vectorizer.pkl\")\n"
   ]
  }
 ],
 "metadata": {
  "kernelspec": {
   "display_name": "Python 3",
   "language": "python",
   "name": "python3"
  },
  "language_info": {
   "codemirror_mode": {
    "name": "ipython",
    "version": 3
   },
   "file_extension": ".py",
   "mimetype": "text/x-python",
   "name": "python",
   "nbconvert_exporter": "python",
   "pygments_lexer": "ipython3",
   "version": "3.7.9"
  },
  "orig_nbformat": 4
 },
 "nbformat": 4,
 "nbformat_minor": 2
}
